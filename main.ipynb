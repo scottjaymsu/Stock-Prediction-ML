{
 "cells": [
  {
   "cell_type": "code",
   "execution_count": 44,
   "id": "ab42e12d",
   "metadata": {},
   "outputs": [],
   "source": [
    "import yfinance as yf\n",
    "from sklearn.ensemble import RandomForestClassifier\n",
    "from sklearn.metrics import precision_score\n",
    "import pandas as pd"
   ]
  },
  {
   "cell_type": "code",
   "execution_count": 22,
   "id": "16e82353",
   "metadata": {},
   "outputs": [],
   "source": [
    "# Get the S&P 500 ticker data\n",
    "sp500 = yf.Ticker(\"^GSPC\")"
   ]
  },
  {
   "cell_type": "code",
   "execution_count": 23,
   "id": "e90cec40",
   "metadata": {},
   "outputs": [],
   "source": [
    "# Query historical prices\n",
    "sp500 = sp500.history(period = \"max\")"
   ]
  },
  {
   "cell_type": "code",
   "execution_count": 24,
   "id": "38209645",
   "metadata": {},
   "outputs": [
    {
     "data": {
      "text/html": [
       "<div>\n",
       "<style scoped>\n",
       "    .dataframe tbody tr th:only-of-type {\n",
       "        vertical-align: middle;\n",
       "    }\n",
       "\n",
       "    .dataframe tbody tr th {\n",
       "        vertical-align: top;\n",
       "    }\n",
       "\n",
       "    .dataframe thead th {\n",
       "        text-align: right;\n",
       "    }\n",
       "</style>\n",
       "<table border=\"1\" class=\"dataframe\">\n",
       "  <thead>\n",
       "    <tr style=\"text-align: right;\">\n",
       "      <th></th>\n",
       "      <th>Open</th>\n",
       "      <th>High</th>\n",
       "      <th>Low</th>\n",
       "      <th>Close</th>\n",
       "      <th>Volume</th>\n",
       "      <th>Dividends</th>\n",
       "      <th>Stock Splits</th>\n",
       "    </tr>\n",
       "    <tr>\n",
       "      <th>Date</th>\n",
       "      <th></th>\n",
       "      <th></th>\n",
       "      <th></th>\n",
       "      <th></th>\n",
       "      <th></th>\n",
       "      <th></th>\n",
       "      <th></th>\n",
       "    </tr>\n",
       "  </thead>\n",
       "  <tbody>\n",
       "    <tr>\n",
       "      <th>1927-12-30 00:00:00-05:00</th>\n",
       "      <td>17.660000</td>\n",
       "      <td>17.660000</td>\n",
       "      <td>17.660000</td>\n",
       "      <td>17.660000</td>\n",
       "      <td>0</td>\n",
       "      <td>0.0</td>\n",
       "      <td>0.0</td>\n",
       "    </tr>\n",
       "    <tr>\n",
       "      <th>1928-01-03 00:00:00-05:00</th>\n",
       "      <td>17.760000</td>\n",
       "      <td>17.760000</td>\n",
       "      <td>17.760000</td>\n",
       "      <td>17.760000</td>\n",
       "      <td>0</td>\n",
       "      <td>0.0</td>\n",
       "      <td>0.0</td>\n",
       "    </tr>\n",
       "    <tr>\n",
       "      <th>1928-01-04 00:00:00-05:00</th>\n",
       "      <td>17.719999</td>\n",
       "      <td>17.719999</td>\n",
       "      <td>17.719999</td>\n",
       "      <td>17.719999</td>\n",
       "      <td>0</td>\n",
       "      <td>0.0</td>\n",
       "      <td>0.0</td>\n",
       "    </tr>\n",
       "    <tr>\n",
       "      <th>1928-01-05 00:00:00-05:00</th>\n",
       "      <td>17.549999</td>\n",
       "      <td>17.549999</td>\n",
       "      <td>17.549999</td>\n",
       "      <td>17.549999</td>\n",
       "      <td>0</td>\n",
       "      <td>0.0</td>\n",
       "      <td>0.0</td>\n",
       "    </tr>\n",
       "    <tr>\n",
       "      <th>1928-01-06 00:00:00-05:00</th>\n",
       "      <td>17.660000</td>\n",
       "      <td>17.660000</td>\n",
       "      <td>17.660000</td>\n",
       "      <td>17.660000</td>\n",
       "      <td>0</td>\n",
       "      <td>0.0</td>\n",
       "      <td>0.0</td>\n",
       "    </tr>\n",
       "    <tr>\n",
       "      <th>...</th>\n",
       "      <td>...</td>\n",
       "      <td>...</td>\n",
       "      <td>...</td>\n",
       "      <td>...</td>\n",
       "      <td>...</td>\n",
       "      <td>...</td>\n",
       "      <td>...</td>\n",
       "    </tr>\n",
       "    <tr>\n",
       "      <th>2024-09-12 00:00:00-04:00</th>\n",
       "      <td>5557.479980</td>\n",
       "      <td>5600.709961</td>\n",
       "      <td>5535.500000</td>\n",
       "      <td>5595.759766</td>\n",
       "      <td>3655070000</td>\n",
       "      <td>0.0</td>\n",
       "      <td>0.0</td>\n",
       "    </tr>\n",
       "    <tr>\n",
       "      <th>2024-09-13 00:00:00-04:00</th>\n",
       "      <td>5603.339844</td>\n",
       "      <td>5636.270020</td>\n",
       "      <td>5601.649902</td>\n",
       "      <td>5626.020020</td>\n",
       "      <td>3500790000</td>\n",
       "      <td>0.0</td>\n",
       "      <td>0.0</td>\n",
       "    </tr>\n",
       "    <tr>\n",
       "      <th>2024-09-16 00:00:00-04:00</th>\n",
       "      <td>5615.209961</td>\n",
       "      <td>5636.049805</td>\n",
       "      <td>5604.529785</td>\n",
       "      <td>5633.089844</td>\n",
       "      <td>3437070000</td>\n",
       "      <td>0.0</td>\n",
       "      <td>0.0</td>\n",
       "    </tr>\n",
       "    <tr>\n",
       "      <th>2024-09-17 00:00:00-04:00</th>\n",
       "      <td>5655.509766</td>\n",
       "      <td>5670.810059</td>\n",
       "      <td>5614.049805</td>\n",
       "      <td>5634.580078</td>\n",
       "      <td>3443600000</td>\n",
       "      <td>0.0</td>\n",
       "      <td>0.0</td>\n",
       "    </tr>\n",
       "    <tr>\n",
       "      <th>2024-09-18 00:00:00-04:00</th>\n",
       "      <td>5641.680176</td>\n",
       "      <td>5689.750000</td>\n",
       "      <td>5615.080078</td>\n",
       "      <td>5618.259766</td>\n",
       "      <td>3691390000</td>\n",
       "      <td>0.0</td>\n",
       "      <td>0.0</td>\n",
       "    </tr>\n",
       "  </tbody>\n",
       "</table>\n",
       "<p>24295 rows × 7 columns</p>\n",
       "</div>"
      ],
      "text/plain": [
       "                                  Open         High          Low        Close  \\\n",
       "Date                                                                            \n",
       "1927-12-30 00:00:00-05:00    17.660000    17.660000    17.660000    17.660000   \n",
       "1928-01-03 00:00:00-05:00    17.760000    17.760000    17.760000    17.760000   \n",
       "1928-01-04 00:00:00-05:00    17.719999    17.719999    17.719999    17.719999   \n",
       "1928-01-05 00:00:00-05:00    17.549999    17.549999    17.549999    17.549999   \n",
       "1928-01-06 00:00:00-05:00    17.660000    17.660000    17.660000    17.660000   \n",
       "...                                ...          ...          ...          ...   \n",
       "2024-09-12 00:00:00-04:00  5557.479980  5600.709961  5535.500000  5595.759766   \n",
       "2024-09-13 00:00:00-04:00  5603.339844  5636.270020  5601.649902  5626.020020   \n",
       "2024-09-16 00:00:00-04:00  5615.209961  5636.049805  5604.529785  5633.089844   \n",
       "2024-09-17 00:00:00-04:00  5655.509766  5670.810059  5614.049805  5634.580078   \n",
       "2024-09-18 00:00:00-04:00  5641.680176  5689.750000  5615.080078  5618.259766   \n",
       "\n",
       "                               Volume  Dividends  Stock Splits  \n",
       "Date                                                            \n",
       "1927-12-30 00:00:00-05:00           0        0.0           0.0  \n",
       "1928-01-03 00:00:00-05:00           0        0.0           0.0  \n",
       "1928-01-04 00:00:00-05:00           0        0.0           0.0  \n",
       "1928-01-05 00:00:00-05:00           0        0.0           0.0  \n",
       "1928-01-06 00:00:00-05:00           0        0.0           0.0  \n",
       "...                               ...        ...           ...  \n",
       "2024-09-12 00:00:00-04:00  3655070000        0.0           0.0  \n",
       "2024-09-13 00:00:00-04:00  3500790000        0.0           0.0  \n",
       "2024-09-16 00:00:00-04:00  3437070000        0.0           0.0  \n",
       "2024-09-17 00:00:00-04:00  3443600000        0.0           0.0  \n",
       "2024-09-18 00:00:00-04:00  3691390000        0.0           0.0  \n",
       "\n",
       "[24295 rows x 7 columns]"
      ]
     },
     "execution_count": 24,
     "metadata": {},
     "output_type": "execute_result"
    }
   ],
   "source": [
    "sp500"
   ]
  },
  {
   "cell_type": "code",
   "execution_count": 25,
   "id": "3753dc06",
   "metadata": {},
   "outputs": [
    {
     "data": {
      "text/plain": [
       "DatetimeIndex(['1927-12-30 00:00:00-05:00', '1928-01-03 00:00:00-05:00',\n",
       "               '1928-01-04 00:00:00-05:00', '1928-01-05 00:00:00-05:00',\n",
       "               '1928-01-06 00:00:00-05:00', '1928-01-09 00:00:00-05:00',\n",
       "               '1928-01-10 00:00:00-05:00', '1928-01-11 00:00:00-05:00',\n",
       "               '1928-01-12 00:00:00-05:00', '1928-01-13 00:00:00-05:00',\n",
       "               ...\n",
       "               '2024-09-05 00:00:00-04:00', '2024-09-06 00:00:00-04:00',\n",
       "               '2024-09-09 00:00:00-04:00', '2024-09-10 00:00:00-04:00',\n",
       "               '2024-09-11 00:00:00-04:00', '2024-09-12 00:00:00-04:00',\n",
       "               '2024-09-13 00:00:00-04:00', '2024-09-16 00:00:00-04:00',\n",
       "               '2024-09-17 00:00:00-04:00', '2024-09-18 00:00:00-04:00'],\n",
       "              dtype='datetime64[ns, America/New_York]', name='Date', length=24295, freq=None)"
      ]
     },
     "execution_count": 25,
     "metadata": {},
     "output_type": "execute_result"
    }
   ],
   "source": [
    "# Accessing the S&P 500 index\n",
    "sp500.index"
   ]
  },
  {
   "cell_type": "code",
   "execution_count": 26,
   "id": "6d24d3a5",
   "metadata": {},
   "outputs": [
    {
     "data": {
      "text/plain": [
       "<AxesSubplot:xlabel='Date'>"
      ]
     },
     "execution_count": 26,
     "metadata": {},
     "output_type": "execute_result"
    },
    {
     "data": {
      "image/png": "[encoded data removed]",
      "text/plain": [
       "<Figure size 640x480 with 1 Axes>"
      ]
     },
     "metadata": {},
     "output_type": "display_data"
    }
   ],
   "source": [
    "sp500.plot.line(y = \"Close\", use_index = True)"
   ]
  },
  {
   "cell_type": "code",
   "execution_count": 27,
   "id": "f77fc662",
   "metadata": {},
   "outputs": [],
   "source": [
    "# Remove Dividends & Stock Splits columns from the S&P500 DF \n",
    "del sp500[\"Dividends\"]\n",
    "del sp500[\"Stock Splits\"]"
   ]
  },
  {
   "cell_type": "code",
   "execution_count": 31,
   "id": "aa4ba22a",
   "metadata": {},
   "outputs": [
    {
     "data": {
      "text/html": [
       "<div>\n",
       "<style scoped>\n",
       "    .dataframe tbody tr th:only-of-type {\n",
       "        vertical-align: middle;\n",
       "    }\n",
       "\n",
       "    .dataframe tbody tr th {\n",
       "        vertical-align: top;\n",
       "    }\n",
       "\n",
       "    .dataframe thead th {\n",
       "        text-align: right;\n",
       "    }\n",
       "</style>\n",
       "<table border=\"1\" class=\"dataframe\">\n",
       "  <thead>\n",
       "    <tr style=\"text-align: right;\">\n",
       "      <th></th>\n",
       "      <th>Open</th>\n",
       "      <th>High</th>\n",
       "      <th>Low</th>\n",
       "      <th>Close</th>\n",
       "      <th>Volume</th>\n",
       "      <th>Tomorrow</th>\n",
       "      <th>Target</th>\n",
       "    </tr>\n",
       "    <tr>\n",
       "      <th>Date</th>\n",
       "      <th></th>\n",
       "      <th></th>\n",
       "      <th></th>\n",
       "      <th></th>\n",
       "      <th></th>\n",
       "      <th></th>\n",
       "      <th></th>\n",
       "    </tr>\n",
       "  </thead>\n",
       "  <tbody>\n",
       "    <tr>\n",
       "      <th>1927-12-30 00:00:00-05:00</th>\n",
       "      <td>17.660000</td>\n",
       "      <td>17.660000</td>\n",
       "      <td>17.660000</td>\n",
       "      <td>17.660000</td>\n",
       "      <td>0</td>\n",
       "      <td>17.760000</td>\n",
       "      <td>1</td>\n",
       "    </tr>\n",
       "    <tr>\n",
       "      <th>1928-01-03 00:00:00-05:00</th>\n",
       "      <td>17.760000</td>\n",
       "      <td>17.760000</td>\n",
       "      <td>17.760000</td>\n",
       "      <td>17.760000</td>\n",
       "      <td>0</td>\n",
       "      <td>17.719999</td>\n",
       "      <td>0</td>\n",
       "    </tr>\n",
       "    <tr>\n",
       "      <th>1928-01-04 00:00:00-05:00</th>\n",
       "      <td>17.719999</td>\n",
       "      <td>17.719999</td>\n",
       "      <td>17.719999</td>\n",
       "      <td>17.719999</td>\n",
       "      <td>0</td>\n",
       "      <td>17.549999</td>\n",
       "      <td>0</td>\n",
       "    </tr>\n",
       "    <tr>\n",
       "      <th>1928-01-05 00:00:00-05:00</th>\n",
       "      <td>17.549999</td>\n",
       "      <td>17.549999</td>\n",
       "      <td>17.549999</td>\n",
       "      <td>17.549999</td>\n",
       "      <td>0</td>\n",
       "      <td>17.660000</td>\n",
       "      <td>1</td>\n",
       "    </tr>\n",
       "    <tr>\n",
       "      <th>1928-01-06 00:00:00-05:00</th>\n",
       "      <td>17.660000</td>\n",
       "      <td>17.660000</td>\n",
       "      <td>17.660000</td>\n",
       "      <td>17.660000</td>\n",
       "      <td>0</td>\n",
       "      <td>17.500000</td>\n",
       "      <td>0</td>\n",
       "    </tr>\n",
       "    <tr>\n",
       "      <th>...</th>\n",
       "      <td>...</td>\n",
       "      <td>...</td>\n",
       "      <td>...</td>\n",
       "      <td>...</td>\n",
       "      <td>...</td>\n",
       "      <td>...</td>\n",
       "      <td>...</td>\n",
       "    </tr>\n",
       "    <tr>\n",
       "      <th>2024-09-12 00:00:00-04:00</th>\n",
       "      <td>5557.479980</td>\n",
       "      <td>5600.709961</td>\n",
       "      <td>5535.500000</td>\n",
       "      <td>5595.759766</td>\n",
       "      <td>3655070000</td>\n",
       "      <td>5626.020020</td>\n",
       "      <td>1</td>\n",
       "    </tr>\n",
       "    <tr>\n",
       "      <th>2024-09-13 00:00:00-04:00</th>\n",
       "      <td>5603.339844</td>\n",
       "      <td>5636.270020</td>\n",
       "      <td>5601.649902</td>\n",
       "      <td>5626.020020</td>\n",
       "      <td>3500790000</td>\n",
       "      <td>5633.089844</td>\n",
       "      <td>1</td>\n",
       "    </tr>\n",
       "    <tr>\n",
       "      <th>2024-09-16 00:00:00-04:00</th>\n",
       "      <td>5615.209961</td>\n",
       "      <td>5636.049805</td>\n",
       "      <td>5604.529785</td>\n",
       "      <td>5633.089844</td>\n",
       "      <td>3437070000</td>\n",
       "      <td>5634.580078</td>\n",
       "      <td>1</td>\n",
       "    </tr>\n",
       "    <tr>\n",
       "      <th>2024-09-17 00:00:00-04:00</th>\n",
       "      <td>5655.509766</td>\n",
       "      <td>5670.810059</td>\n",
       "      <td>5614.049805</td>\n",
       "      <td>5634.580078</td>\n",
       "      <td>3443600000</td>\n",
       "      <td>5618.259766</td>\n",
       "      <td>0</td>\n",
       "    </tr>\n",
       "    <tr>\n",
       "      <th>2024-09-18 00:00:00-04:00</th>\n",
       "      <td>5641.680176</td>\n",
       "      <td>5689.750000</td>\n",
       "      <td>5615.080078</td>\n",
       "      <td>5618.259766</td>\n",
       "      <td>3691390000</td>\n",
       "      <td>NaN</td>\n",
       "      <td>0</td>\n",
       "    </tr>\n",
       "  </tbody>\n",
       "</table>\n",
       "<p>24295 rows × 7 columns</p>\n",
       "</div>"
      ],
      "text/plain": [
       "                                  Open         High          Low        Close  \\\n",
       "Date                                                                            \n",
       "1927-12-30 00:00:00-05:00    17.660000    17.660000    17.660000    17.660000   \n",
       "1928-01-03 00:00:00-05:00    17.760000    17.760000    17.760000    17.760000   \n",
       "1928-01-04 00:00:00-05:00    17.719999    17.719999    17.719999    17.719999   \n",
       "1928-01-05 00:00:00-05:00    17.549999    17.549999    17.549999    17.549999   \n",
       "1928-01-06 00:00:00-05:00    17.660000    17.660000    17.660000    17.660000   \n",
       "...                                ...          ...          ...          ...   \n",
       "2024-09-12 00:00:00-04:00  5557.479980  5600.709961  5535.500000  5595.759766   \n",
       "2024-09-13 00:00:00-04:00  5603.339844  5636.270020  5601.649902  5626.020020   \n",
       "2024-09-16 00:00:00-04:00  5615.209961  5636.049805  5604.529785  5633.089844   \n",
       "2024-09-17 00:00:00-04:00  5655.509766  5670.810059  5614.049805  5634.580078   \n",
       "2024-09-18 00:00:00-04:00  5641.680176  5689.750000  5615.080078  5618.259766   \n",
       "\n",
       "                               Volume     Tomorrow  Target  \n",
       "Date                                                        \n",
       "1927-12-30 00:00:00-05:00           0    17.760000       1  \n",
       "1928-01-03 00:00:00-05:00           0    17.719999       0  \n",
       "1928-01-04 00:00:00-05:00           0    17.549999       0  \n",
       "1928-01-05 00:00:00-05:00           0    17.660000       1  \n",
       "1928-01-06 00:00:00-05:00           0    17.500000       0  \n",
       "...                               ...          ...     ...  \n",
       "2024-09-12 00:00:00-04:00  3655070000  5626.020020       1  \n",
       "2024-09-13 00:00:00-04:00  3500790000  5633.089844       1  \n",
       "2024-09-16 00:00:00-04:00  3437070000  5634.580078       1  \n",
       "2024-09-17 00:00:00-04:00  3443600000  5618.259766       0  \n",
       "2024-09-18 00:00:00-04:00  3691390000          NaN       0  \n",
       "\n",
       "[24295 rows x 7 columns]"
      ]
     },
     "execution_count": 31,
     "metadata": {},
     "output_type": "execute_result"
    }
   ],
   "source": [
    "sp500"
   ]
  },
  {
   "cell_type": "code",
   "execution_count": 32,
   "id": "982b1539",
   "metadata": {},
   "outputs": [],
   "source": [
    "# Shift the 'Close' prices by one day to create a 'Tomorrow column'\n",
    "sp500[\"Tomorrow\"] = sp500[\"Close\"].shift(-1)"
   ]
  },
  {
   "cell_type": "code",
   "execution_count": 33,
   "id": "6022985e",
   "metadata": {},
   "outputs": [],
   "source": [
    "# Create a 'Target' column\n",
    "# 1 indicates the price increasing tomorrow\n",
    "# 0 indicates that the price does not increase tomorrow\n",
    "sp500[\"Target\"] = (sp500[\"Tomorrow\"] > sp500[\"Close\"]).astype(int)"
   ]
  },
  {
   "cell_type": "code",
   "execution_count": 48,
   "id": "15b4ce92",
   "metadata": {},
   "outputs": [],
   "source": [
    "# Filter the DF to include data from a specific date \n",
    "sp500 = sp500.loc[\"1900-01-01\":].copy()"
   ]
  },
  {
   "cell_type": "code",
   "execution_count": 35,
   "id": "690aa8dd",
   "metadata": {},
   "outputs": [
    {
     "data": {
      "text/html": [
       "<div>\n",
       "<style scoped>\n",
       "    .dataframe tbody tr th:only-of-type {\n",
       "        vertical-align: middle;\n",
       "    }\n",
       "\n",
       "    .dataframe tbody tr th {\n",
       "        vertical-align: top;\n",
       "    }\n",
       "\n",
       "    .dataframe thead th {\n",
       "        text-align: right;\n",
       "    }\n",
       "</style>\n",
       "<table border=\"1\" class=\"dataframe\">\n",
       "  <thead>\n",
       "    <tr style=\"text-align: right;\">\n",
       "      <th></th>\n",
       "      <th>Open</th>\n",
       "      <th>High</th>\n",
       "      <th>Low</th>\n",
       "      <th>Close</th>\n",
       "      <th>Volume</th>\n",
       "      <th>Tomorrow</th>\n",
       "      <th>Target</th>\n",
       "    </tr>\n",
       "    <tr>\n",
       "      <th>Date</th>\n",
       "      <th></th>\n",
       "      <th></th>\n",
       "      <th></th>\n",
       "      <th></th>\n",
       "      <th></th>\n",
       "      <th></th>\n",
       "      <th></th>\n",
       "    </tr>\n",
       "  </thead>\n",
       "  <tbody>\n",
       "    <tr>\n",
       "      <th>1927-12-30 00:00:00-05:00</th>\n",
       "      <td>17.660000</td>\n",
       "      <td>17.660000</td>\n",
       "      <td>17.660000</td>\n",
       "      <td>17.660000</td>\n",
       "      <td>0</td>\n",
       "      <td>17.760000</td>\n",
       "      <td>1</td>\n",
       "    </tr>\n",
       "    <tr>\n",
       "      <th>1928-01-03 00:00:00-05:00</th>\n",
       "      <td>17.760000</td>\n",
       "      <td>17.760000</td>\n",
       "      <td>17.760000</td>\n",
       "      <td>17.760000</td>\n",
       "      <td>0</td>\n",
       "      <td>17.719999</td>\n",
       "      <td>0</td>\n",
       "    </tr>\n",
       "    <tr>\n",
       "      <th>1928-01-04 00:00:00-05:00</th>\n",
       "      <td>17.719999</td>\n",
       "      <td>17.719999</td>\n",
       "      <td>17.719999</td>\n",
       "      <td>17.719999</td>\n",
       "      <td>0</td>\n",
       "      <td>17.549999</td>\n",
       "      <td>0</td>\n",
       "    </tr>\n",
       "    <tr>\n",
       "      <th>1928-01-05 00:00:00-05:00</th>\n",
       "      <td>17.549999</td>\n",
       "      <td>17.549999</td>\n",
       "      <td>17.549999</td>\n",
       "      <td>17.549999</td>\n",
       "      <td>0</td>\n",
       "      <td>17.660000</td>\n",
       "      <td>1</td>\n",
       "    </tr>\n",
       "    <tr>\n",
       "      <th>1928-01-06 00:00:00-05:00</th>\n",
       "      <td>17.660000</td>\n",
       "      <td>17.660000</td>\n",
       "      <td>17.660000</td>\n",
       "      <td>17.660000</td>\n",
       "      <td>0</td>\n",
       "      <td>17.500000</td>\n",
       "      <td>0</td>\n",
       "    </tr>\n",
       "    <tr>\n",
       "      <th>...</th>\n",
       "      <td>...</td>\n",
       "      <td>...</td>\n",
       "      <td>...</td>\n",
       "      <td>...</td>\n",
       "      <td>...</td>\n",
       "      <td>...</td>\n",
       "      <td>...</td>\n",
       "    </tr>\n",
       "    <tr>\n",
       "      <th>2024-09-12 00:00:00-04:00</th>\n",
       "      <td>5557.479980</td>\n",
       "      <td>5600.709961</td>\n",
       "      <td>5535.500000</td>\n",
       "      <td>5595.759766</td>\n",
       "      <td>3655070000</td>\n",
       "      <td>5626.020020</td>\n",
       "      <td>1</td>\n",
       "    </tr>\n",
       "    <tr>\n",
       "      <th>2024-09-13 00:00:00-04:00</th>\n",
       "      <td>5603.339844</td>\n",
       "      <td>5636.270020</td>\n",
       "      <td>5601.649902</td>\n",
       "      <td>5626.020020</td>\n",
       "      <td>3500790000</td>\n",
       "      <td>5633.089844</td>\n",
       "      <td>1</td>\n",
       "    </tr>\n",
       "    <tr>\n",
       "      <th>2024-09-16 00:00:00-04:00</th>\n",
       "      <td>5615.209961</td>\n",
       "      <td>5636.049805</td>\n",
       "      <td>5604.529785</td>\n",
       "      <td>5633.089844</td>\n",
       "      <td>3437070000</td>\n",
       "      <td>5634.580078</td>\n",
       "      <td>1</td>\n",
       "    </tr>\n",
       "    <tr>\n",
       "      <th>2024-09-17 00:00:00-04:00</th>\n",
       "      <td>5655.509766</td>\n",
       "      <td>5670.810059</td>\n",
       "      <td>5614.049805</td>\n",
       "      <td>5634.580078</td>\n",
       "      <td>3443600000</td>\n",
       "      <td>5618.259766</td>\n",
       "      <td>0</td>\n",
       "    </tr>\n",
       "    <tr>\n",
       "      <th>2024-09-18 00:00:00-04:00</th>\n",
       "      <td>5641.680176</td>\n",
       "      <td>5689.750000</td>\n",
       "      <td>5615.080078</td>\n",
       "      <td>5618.259766</td>\n",
       "      <td>3691390000</td>\n",
       "      <td>NaN</td>\n",
       "      <td>0</td>\n",
       "    </tr>\n",
       "  </tbody>\n",
       "</table>\n",
       "<p>24295 rows × 7 columns</p>\n",
       "</div>"
      ],
      "text/plain": [
       "                                  Open         High          Low        Close  \\\n",
       "Date                                                                            \n",
       "1927-12-30 00:00:00-05:00    17.660000    17.660000    17.660000    17.660000   \n",
       "1928-01-03 00:00:00-05:00    17.760000    17.760000    17.760000    17.760000   \n",
       "1928-01-04 00:00:00-05:00    17.719999    17.719999    17.719999    17.719999   \n",
       "1928-01-05 00:00:00-05:00    17.549999    17.549999    17.549999    17.549999   \n",
       "1928-01-06 00:00:00-05:00    17.660000    17.660000    17.660000    17.660000   \n",
       "...                                ...          ...          ...          ...   \n",
       "2024-09-12 00:00:00-04:00  5557.479980  5600.709961  5535.500000  5595.759766   \n",
       "2024-09-13 00:00:00-04:00  5603.339844  5636.270020  5601.649902  5626.020020   \n",
       "2024-09-16 00:00:00-04:00  5615.209961  5636.049805  5604.529785  5633.089844   \n",
       "2024-09-17 00:00:00-04:00  5655.509766  5670.810059  5614.049805  5634.580078   \n",
       "2024-09-18 00:00:00-04:00  5641.680176  5689.750000  5615.080078  5618.259766   \n",
       "\n",
       "                               Volume     Tomorrow  Target  \n",
       "Date                                                        \n",
       "1927-12-30 00:00:00-05:00           0    17.760000       1  \n",
       "1928-01-03 00:00:00-05:00           0    17.719999       0  \n",
       "1928-01-04 00:00:00-05:00           0    17.549999       0  \n",
       "1928-01-05 00:00:00-05:00           0    17.660000       1  \n",
       "1928-01-06 00:00:00-05:00           0    17.500000       0  \n",
       "...                               ...          ...     ...  \n",
       "2024-09-12 00:00:00-04:00  3655070000  5626.020020       1  \n",
       "2024-09-13 00:00:00-04:00  3500790000  5633.089844       1  \n",
       "2024-09-16 00:00:00-04:00  3437070000  5634.580078       1  \n",
       "2024-09-17 00:00:00-04:00  3443600000  5618.259766       0  \n",
       "2024-09-18 00:00:00-04:00  3691390000          NaN       0  \n",
       "\n",
       "[24295 rows x 7 columns]"
      ]
     },
     "execution_count": 35,
     "metadata": {},
     "output_type": "execute_result"
    }
   ],
   "source": [
    "sp500"
   ]
  },
  {
   "cell_type": "code",
   "execution_count": 40,
   "id": "1416b550",
   "metadata": {},
   "outputs": [],
   "source": [
    "model = RandomForestClassifier(n_estimators = 100, min_samples_split = 100, random_state = 1)"
   ]
  },
  {
   "cell_type": "code",
   "execution_count": 41,
   "id": "f7d6cd7d",
   "metadata": {},
   "outputs": [],
   "source": [
    "# Split the data into training and testing sets\n",
    "train = sp500.iloc[:-100]\n",
    "test = sp500.iloc[-100:]"
   ]
  },
  {
   "cell_type": "code",
   "execution_count": 43,
   "id": "73294a69",
   "metadata": {},
   "outputs": [
    {
     "data": {
      "text/plain": [
       "RandomForestClassifier(min_samples_split=100, random_state=1)"
      ]
     },
     "execution_count": 43,
     "metadata": {},
     "output_type": "execute_result"
    }
   ],
   "source": [
    "# Define the predictor variables for the model\n",
    "predictors = [\"Close\", \"Volume\", \"Open\", \"High\", \"Low\"]\n",
    "\n",
    "# Fit the model using the training data\n",
    "model.fit(train[predictors], train[\"Target\"])"
   ]
  },
  {
   "cell_type": "code",
   "execution_count": 45,
   "id": "42c70080",
   "metadata": {},
   "outputs": [],
   "source": [
    "# Make predictions on test set\n",
    "preds = model.predict(test[predictors])\n",
    "\n",
    "# Convert predictions to a Series with the same index as test set\n",
    "preds = pd.Series(preds, index = test.index)"
   ]
  },
  {
   "cell_type": "code",
   "execution_count": 59,
   "id": "f28ca60b",
   "metadata": {},
   "outputs": [
    {
     "data": {
      "text/plain": [
       "0.6"
      ]
     },
     "execution_count": 59,
     "metadata": {},
     "output_type": "execute_result"
    }
   ],
   "source": [
    "# Calculate the precision score of the predictions against the actual targets\n",
    "precision_score(test[\"Target\"], preds)"
   ]
  },
  {
   "cell_type": "code",
   "execution_count": 60,
   "id": "3a9483b3",
   "metadata": {},
   "outputs": [],
   "source": [
    "# Combine the actual targets and predictions into single DF for comparison\n",
    "combined = pd.concat([test[\"Target\"], preds], axis = 1)"
   ]
  },
  {
   "cell_type": "code",
   "execution_count": 61,
   "id": "85bc2805",
   "metadata": {},
   "outputs": [
    {
     "data": {
      "text/plain": [
       "<AxesSubplot:xlabel='Date'>"
      ]
     },
     "execution_count": 61,
     "metadata": {},
     "output_type": "execute_result"
    },
    {
     "data": {
      "image/png": "[encoded data removed]",
      "text/plain": [
       "<Figure size 640x480 with 1 Axes>"
      ]
     },
     "metadata": {},
     "output_type": "display_data"
    }
   ],
   "source": [
    "combined.plot()"
   ]
  },
  {
   "cell_type": "code",
   "execution_count": 70,
   "id": "51d19def",
   "metadata": {},
   "outputs": [],
   "source": [
    "def predict(train, test, predictors, model):\n",
    "    # Fit the model using the training data and predictors\n",
    "    model.fit(train[predictors], train[\"Target\"])\n",
    "    # Made predictions on the test set using the trained model\n",
    "    preds = model.predict(test[predictors])\n",
    "    preds = pd.Series(preds, index = test.index, name = \"Predictions\")\n",
    "    # Combine the actual targets from the test set and the predictions into DF for comparison\n",
    "    combined = pd.concat([test[\"Target\"], preds], axis = 1)\n",
    "    return combined"
   ]
  },
  {
   "cell_type": "code",
   "execution_count": 71,
   "id": "257454bb",
   "metadata": {},
   "outputs": [],
   "source": [
    "def backtest(data, model, predictors, start = 2500, step = 250):\n",
    "    all_preds = []\n",
    "    # Loop through the data starting from the 'start' index\n",
    "    for i in range(start, data.shape[0], step):\n",
    "        # Create a training set using all the data up to the current index\n",
    "        train = data.iloc[0:i].copy()\n",
    "        # Create a test set using the next 'step' rows\n",
    "        test = data.iloc[i : (i + step)].copy()\n",
    "        # Generate predictions using the training and test sets\n",
    "        predictions = predict(train, test, predictors, model)\n",
    "        all_preds.append(predictions)\n",
    "    return pd.concat(all_preds)"
   ]
  },
  {
   "cell_type": "code",
   "execution_count": 66,
   "id": "d790572d",
   "metadata": {},
   "outputs": [],
   "source": [
    "predictions = backtest(sp500, model, predictors)"
   ]
  },
  {
   "cell_type": "code",
   "execution_count": 67,
   "id": "e04687a9",
   "metadata": {},
   "outputs": [
    {
     "data": {
      "text/plain": [
       "0    12312\n",
       "1     9483\n",
       "Name: Predictions, dtype: int64"
      ]
     },
     "execution_count": 67,
     "metadata": {},
     "output_type": "execute_result"
    }
   ],
   "source": [
    "# Count the occurences of each unique predictions in the 'Predictions' column \n",
    "predictions[\"Predictions\"].value_counts()"
   ]
  },
  {
   "cell_type": "code",
   "execution_count": 68,
   "id": "b8f9416e",
   "metadata": {},
   "outputs": [
    {
     "data": {
      "text/plain": [
       "0.5171359274491195"
      ]
     },
     "execution_count": 68,
     "metadata": {},
     "output_type": "execute_result"
    }
   ],
   "source": [
    "# Calculate the precision score by comparing the actual targets to the predicted values\n",
    "precision_score(predictions[\"Target\"], predictions[\"Predictions\"])"
   ]
  },
  {
   "cell_type": "code",
   "execution_count": 69,
   "id": "97ec5533",
   "metadata": {},
   "outputs": [
    {
     "data": {
      "text/plain": [
       "1    0.526589\n",
       "0    0.473411\n",
       "Name: Target, dtype: float64"
      ]
     },
     "execution_count": 69,
     "metadata": {},
     "output_type": "execute_result"
    }
   ],
   "source": [
    "# Calculate the proportion of each target class in the predictions DF\n",
    "predictions[\"Target\"].value_counts() / predictions.shape[0]"
   ]
  }
 ],
 "metadata": {
  "kernelspec": {
   "display_name": "Python 3 (ipykernel)",
   "language": "python",
   "name": "python3"
  },
  "language_info": {
   "codemirror_mode": {
    "name": "ipython",
    "version": 3
   },
   "file_extension": ".py",
   "mimetype": "text/x-python",
   "name": "python",
   "nbconvert_exporter": "python",
   "pygments_lexer": "ipython3",
   "version": "3.9.13"
  }
 },
 "nbformat": 4,
 "nbformat_minor": 5
}
